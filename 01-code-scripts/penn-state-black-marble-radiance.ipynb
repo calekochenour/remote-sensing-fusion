{
 "cells": [
  {
   "cell_type": "markdown",
   "metadata": {},
   "source": [
    "# Remote Sensing - Exploring Black Marble Imagery at Penn State"
   ]
  },
  {
   "cell_type": "markdown",
   "metadata": {},
   "source": [
    "## Environment Setup"
   ]
  },
  {
   "cell_type": "markdown",
   "metadata": {},
   "source": [
    "### Import Packages"
   ]
  },
  {
   "cell_type": "code",
   "execution_count": null,
   "metadata": {},
   "outputs": [],
   "source": [
    "# Import packages\n",
    "import os\n",
    "import re\n",
    "from collections import ChainMap\n",
    "import warnings\n",
    "import matplotlib.pyplot as plt\n",
    "from matplotlib import colors\n",
    "import seaborn as sns\n",
    "import numpy as np\n",
    "import pandas as pd\n",
    "from pandas.io.json import json_normalize\n",
    "import rasterio as rio\n",
    "from rasterio.plot import plotting_extent\n",
    "from rasterio.transform import from_origin\n",
    "import geopandas as gpd\n",
    "import earthpy as et\n",
    "import earthpy.plot as ep\n",
    "import earthpy.mask as em\n",
    "import radiance as rd"
   ]
  },
  {
   "cell_type": "markdown",
   "metadata": {},
   "source": [
    "### Set Package Options"
   ]
  },
  {
   "cell_type": "code",
   "execution_count": null,
   "metadata": {},
   "outputs": [],
   "source": [
    "# Set options\n",
    "warnings.filterwarnings(\"ignore\")\n",
    "sns.set(font_scale=1.5)\n",
    "np.set_printoptions(linewidth=np.inf)\n",
    "np.set_printoptions(suppress=True)\n",
    "pd.set_option('display.max_columns', None)\n",
    "pd.set_option('display.max_rows', None)"
   ]
  },
  {
   "cell_type": "markdown",
   "metadata": {},
   "source": [
    "### Set Working Directory"
   ]
  },
  {
   "cell_type": "code",
   "execution_count": null,
   "metadata": {},
   "outputs": [],
   "source": [
    "# Set working directory (move up one folder)\n",
    "os.chdir(\"..\")\n",
    "\n",
    "# Show working directory\n",
    "os.getcwd()"
   ]
  },
  {
   "cell_type": "markdown",
   "metadata": {},
   "source": [
    "## Data Preparation"
   ]
  },
  {
   "cell_type": "markdown",
   "metadata": {},
   "source": [
    "### Define File Paths"
   ]
  },
  {
   "cell_type": "code",
   "execution_count": null,
   "metadata": {},
   "outputs": [],
   "source": [
    "# Set path to radiance files\n",
    "psu_lat_lon_path = os.path.join(\n",
    "    \"02-raw-data\", \"nasa-black-marble\", \n",
    "    \"penn-state-campus-sep-2018-may-2020-pixel-lat-lon.csv\")\n",
    "\n",
    "psu_radiance_path = os.path.join(\n",
    "    \"02-raw-data\", \"nasa-black-marble\", \n",
    "    \"penn-state-campus-sep-2018-may-2020-radiance.csv\")\n",
    "\n",
    "psu_cloud_mask_path = os.path.join(\n",
    "    \"02-raw-data\", \"nasa-black-marble\", \n",
    "    \"penn-state-campus-sep-2018-may-2020-cloud-mask.csv\")"
   ]
  },
  {
   "cell_type": "code",
   "execution_count": null,
   "metadata": {},
   "outputs": [],
   "source": [
    "# Check that all paths to files exist\n",
    "for path in [psu_lat_lon_path, psu_radiance_path, psu_cloud_mask_path]:\n",
    "    print(f\"Path exists: {path}\") if os.path.exists(\n",
    "        path) else print(f\"Path does not exist: {path}\")"
   ]
  },
  {
   "cell_type": "markdown",
   "metadata": {},
   "source": [
    "### Read CSV Files to Geodataframes"
   ]
  },
  {
   "cell_type": "code",
   "execution_count": null,
   "metadata": {},
   "outputs": [],
   "source": [
    "# Read lat/lon into dataframe\n",
    "psu_lat_lon_df = pd.read_csv(psu_lat_lon_path)"
   ]
  },
  {
   "cell_type": "code",
   "execution_count": null,
   "metadata": {},
   "outputs": [],
   "source": [
    "# Display dataframe\n",
    "psu_lat_lon_df.head()"
   ]
  },
  {
   "cell_type": "code",
   "execution_count": null,
   "metadata": {},
   "outputs": [],
   "source": [
    "# Read radiance values to dataframe\n",
    "psu_radiance_df = pd.read_csv(psu_radiance_path)"
   ]
  },
  {
   "cell_type": "code",
   "execution_count": null,
   "metadata": {
    "scrolled": true
   },
   "outputs": [],
   "source": [
    "psu_radiance_df.head()"
   ]
  },
  {
   "cell_type": "code",
   "execution_count": null,
   "metadata": {},
   "outputs": [],
   "source": [
    "# Read cloud mask values to dataframe\n",
    "psu_cloud_mask_df = pd.read_csv(psu_cloud_mask_path)"
   ]
  },
  {
   "cell_type": "code",
   "execution_count": null,
   "metadata": {},
   "outputs": [],
   "source": [
    "psu_cloud_mask_df.head()"
   ]
  },
  {
   "cell_type": "markdown",
   "metadata": {},
   "source": [
    "### Add Missings Dates and Data"
   ]
  },
  {
   "cell_type": "code",
   "execution_count": null,
   "metadata": {},
   "outputs": [],
   "source": [
    "# Fill radiance data with missing dates (dates specified by user)\n",
    "psu_radiance_filled = rd.add_missing_data(\n",
    "    psu_radiance_df, '2018-09-01', '2020-05-07')"
   ]
  },
  {
   "cell_type": "code",
   "execution_count": null,
   "metadata": {
    "scrolled": false
   },
   "outputs": [],
   "source": [
    "# Display dataset with filled data (NaN)\n",
    "psu_radiance_filled.head()"
   ]
  },
  {
   "cell_type": "code",
   "execution_count": null,
   "metadata": {},
   "outputs": [],
   "source": [
    "# Fill cloud mask data with missing dates\n",
    "psu_cloud_mask_filled = rd.add_missing_data(\n",
    "    psu_cloud_mask_df, '2018-09-01', '2020-05-07')"
   ]
  },
  {
   "cell_type": "code",
   "execution_count": null,
   "metadata": {
    "scrolled": true
   },
   "outputs": [],
   "source": [
    "# Display filled dataset with filled data (NaN)\n",
    "psu_cloud_mask_filled.head()"
   ]
  },
  {
   "cell_type": "markdown",
   "metadata": {},
   "source": [
    "### Extract Plotting Extent & Transform"
   ]
  },
  {
   "cell_type": "code",
   "execution_count": null,
   "metadata": {},
   "outputs": [],
   "source": [
    "# Extract PSU extent and transform from lat/lon dataframe\n",
    "psu_extent, psu_transform, psu_shape = rd.extract_extent(\n",
    "    study_area=psu_lat_lon_df, \n",
    "    longitude_column='Longitude', \n",
    "    latitude_column='Latitude')"
   ]
  },
  {
   "cell_type": "code",
   "execution_count": null,
   "metadata": {},
   "outputs": [],
   "source": [
    "# Display extent (left, right, bottom, top)\n",
    "psu_extent"
   ]
  },
  {
   "cell_type": "code",
   "execution_count": null,
   "metadata": {},
   "outputs": [],
   "source": [
    "# Display tranform (used for export)\n",
    "psu_transform"
   ]
  },
  {
   "cell_type": "code",
   "execution_count": null,
   "metadata": {},
   "outputs": [],
   "source": [
    "# Display shape\n",
    "psu_shape"
   ]
  },
  {
   "cell_type": "markdown",
   "metadata": {},
   "source": [
    "### Create GeoDataFrame of Lat/Lon Points"
   ]
  },
  {
   "cell_type": "code",
   "execution_count": null,
   "metadata": {},
   "outputs": [],
   "source": [
    "# Create geodataframe to store lat/lon points \n",
    "#  (for plotting over array)\n",
    "psu_lat_lon_copy = psu_lat_lon_df.copy()\n",
    "\n",
    "psu_lat_lon_gdf = gpd.GeoDataFrame(\n",
    "    psu_lat_lon_copy, \n",
    "    crs=\"epsg:4326\", \n",
    "    geometry=gpd.points_from_xy(\n",
    "        psu_lat_lon_copy.Longitude, \n",
    "        psu_lat_lon_copy.Latitude)\n",
    ")"
   ]
  },
  {
   "cell_type": "code",
   "execution_count": null,
   "metadata": {
    "scrolled": true
   },
   "outputs": [],
   "source": [
    "# Display dataframe\n",
    "psu_lat_lon_gdf.head()"
   ]
  },
  {
   "cell_type": "markdown",
   "metadata": {},
   "source": [
    "## Data Processing"
   ]
  },
  {
   "cell_type": "markdown",
   "metadata": {},
   "source": [
    "**Penn State Academic Calendars**\n",
    "\n",
    "[All Academic Calendars](http://www.registrar.psu.edu/academic-calendars/)\n",
    "\n",
    "[2018-2019 Academic Calendar](http://www.registrar.psu.edu/academic-calendars/2018-19.cfm)\n",
    "\n",
    "[2019-2020 Academic Calendar](http://www.registrar.psu.edu/academic-calendars/2019-20.cfm)"
   ]
  },
  {
   "cell_type": "markdown",
   "metadata": {},
   "source": [
    "### Store Daily Radiance Values"
   ]
  },
  {
   "cell_type": "code",
   "execution_count": null,
   "metadata": {},
   "outputs": [],
   "source": [
    "# Get list of dates (daily) from Sept 1, 2018 to May 7, 2020\n",
    "date_list = rd.create_date_list(start_date='2018-09-01', end_date='2020-05-07')"
   ]
  },
  {
   "cell_type": "code",
   "execution_count": null,
   "metadata": {},
   "outputs": [],
   "source": [
    "# Display number of days in list\n",
    "len(date_list)"
   ]
  },
  {
   "cell_type": "code",
   "execution_count": null,
   "metadata": {},
   "outputs": [],
   "source": [
    "# Store all daily filled values in nested dictionary\n",
    "#  (indexed by [Year][Month][Day])\n",
    "radiance_sept_2018_may_2020 = rd.store_data(\n",
    "    psu_radiance_filled, psu_cloud_mask_filled, \n",
    "    mask_value=100, array_shape=psu_shape, dates=date_list)"
   ]
  },
  {
   "cell_type": "code",
   "execution_count": null,
   "metadata": {},
   "outputs": [],
   "source": [
    "# Initialize counters for years/months/days in dictionary\n",
    "years = months = days = 0\n",
    "radiance_dict = radiance_sept_2018_may_2020\n",
    "\n",
    "# Loop through all years\n",
    "for key_year in radiance_dict.keys():\n",
    "\n",
    "    # Add to counter for each year\n",
    "    years += 1\n",
    "    \n",
    "    # Loop through all months\n",
    "    for key_month in radiance_dict.get(key_year).keys():\n",
    "        \n",
    "        # Add to counter for each month\n",
    "        months += 1\n",
    "        \n",
    "        # Loop through all days\n",
    "        for key_day in radiance_dict.get(key_year).get(key_month):\n",
    "        \n",
    "            # Add to counter for each day\n",
    "            days += 1"
   ]
  },
  {
   "cell_type": "code",
   "execution_count": null,
   "metadata": {},
   "outputs": [],
   "source": [
    "# Display number of years/months/days in dictionary\n",
    "print(f\"Entries in Radiance Dictionary\\nYears:    {years}\\nMonths:  {months}\\nDays:   {days}\")"
   ]
  },
  {
   "cell_type": "markdown",
   "metadata": {},
   "source": [
    "### Date Range Radiance - Monthly Mean Radiance"
   ]
  },
  {
   "cell_type": "code",
   "execution_count": null,
   "metadata": {},
   "outputs": [],
   "source": [
    "# Define year/month combinations to loop through\n",
    "calendar_months_2018_2020 = [\n",
    "    '2018-09', '2018-10', '2018-11', '2018-12',\n",
    "    '2019-01', '2019-02', '2019-03', '2019-04',\n",
    "    '2019-05', '2019-06', '2019-07', '2019-08',\n",
    "    '2019-09', '2019-10', '2019-11', '2019-12',\n",
    "    '2020-01', '2020-02', '2020-03', '2020-04'\n",
    "]"
   ]
  },
  {
   "cell_type": "code",
   "execution_count": null,
   "metadata": {},
   "outputs": [],
   "source": [
    "# Store monthly means in dictionary\n",
    "radiance_monthtly_mean = rd.store_monthly_mean(\n",
    "    radiance_daily=radiance_sept_2018_may_2020, \n",
    "    dates=calendar_months_2018_2020)"
   ]
  },
  {
   "cell_type": "code",
   "execution_count": null,
   "metadata": {},
   "outputs": [],
   "source": [
    "# Show top-level keys (years)\n",
    "radiance_monthtly_mean.keys()"
   ]
  },
  {
   "cell_type": "code",
   "execution_count": null,
   "metadata": {},
   "outputs": [],
   "source": [
    "# Show 2018 keys (months)\n",
    "radiance_monthtly_mean.get('2018').keys()"
   ]
  },
  {
   "cell_type": "code",
   "execution_count": null,
   "metadata": {},
   "outputs": [],
   "source": [
    "# Show 2019 keys (months)\n",
    "radiance_monthtly_mean.get('2019').keys()"
   ]
  },
  {
   "cell_type": "code",
   "execution_count": null,
   "metadata": {},
   "outputs": [],
   "source": [
    "# Show 2020 keys (months)\n",
    "radiance_monthtly_mean.get('2020').keys()"
   ]
  },
  {
   "cell_type": "code",
   "execution_count": null,
   "metadata": {},
   "outputs": [],
   "source": [
    "# Get min and max values for September 2019 mean\n",
    "print(f\"Min Radiance, Sept 2019 Mean Values: {radiance_monthtly_mean.get('2019').get('09').min()}\")\n",
    "print(f\"Max Radiance, Sept 2019 Mean Values: {radiance_monthtly_mean.get('2019').get('09').max()}\")"
   ]
  },
  {
   "cell_type": "code",
   "execution_count": null,
   "metadata": {},
   "outputs": [],
   "source": [
    "# Get min and max values for March 2020 mean\n",
    "print(f\"Min Radiance, March 2020 Mean Values: {radiance_monthtly_mean.get('2020').get('03').min()}\")\n",
    "print(f\"Max Radiance, March 2020 Mean Values: {radiance_monthtly_mean.get('2020').get('03').max()}\")"
   ]
  },
  {
   "cell_type": "markdown",
   "metadata": {},
   "source": [
    "### Date Range Radiance Mean - Continuous Date Ranges"
   ]
  },
  {
   "cell_type": "code",
   "execution_count": null,
   "metadata": {},
   "outputs": [],
   "source": [
    "# Define date ranges (start date, end date) to loop through\n",
    "academic_years_2018_2020 = [\n",
    "\n",
    "    # Labor day weekend to commencement weekend (includes day after commencement)\n",
    "    ('2018-09-01', '2018-12-16'),\n",
    "\n",
    "    # Thanksgiving holiday\n",
    "    ('2018-11-18', '2018-11-24'),\n",
    "\n",
    "    # Fall study days & final exam week\n",
    "    ('2018-12-08', '2018-12-14'),\n",
    "\n",
    "    # After Fall commencement to before Spring new student arrival\n",
    "    ('2018-12-17', '2019-01-04'),\n",
    "\n",
    "    # Spring new student arrival to Spring commencement (commencement weekend)\n",
    "    ('2019-01-05', '2019-05-05'),\n",
    "\n",
    "    # Spring break\n",
    "    ('2019-03-03', '2019-03-09'),\n",
    "\n",
    "    # Spring study days & final exam week\n",
    "    ('2019-04-27', '2019-05-03'),\n",
    "\n",
    "    # Maymester (excluding arrival day, which occurs on Spring commencement)\n",
    "    ('2019-05-06', '2019-06-05'),\n",
    "\n",
    "    # Summer session (regular) through commencement (includes day after commencement)\n",
    "    ('2019-05-12', '2019-08-11'),\n",
    "\n",
    "\n",
    "    # 2019-2020 academic year\n",
    "    # Fall new student arrival to commencement weekend (includes day after commencement)\n",
    "    ('2019-08-23', '2019-12-22'),\n",
    "\n",
    "    # Labor day weekend to Commencement weekend (includes day after commencement)\n",
    "    ('2019-08-31', '2019-12-22'),\n",
    "\n",
    "    # Thanksgiving holiday\n",
    "    ('2019-11-24', '2019-11-30'),\n",
    "\n",
    "    # Fall study days & final exam week\n",
    "    ('2019-12-14', '2019-12-20'),\n",
    "\n",
    "    # After Fall commencement to before Spring new student arrival\n",
    "    ('2019-12-23', '2020-01-10'),\n",
    "\n",
    "    # Spring new student arrival to Spring commencement (commencement weekend)\n",
    "    ('2020-01-11', '2020-05-10'),\n",
    "\n",
    "    # Spring break\n",
    "    ('2020-03-08', '2020-03-14'),\n",
    "\n",
    "    # Spring study days & final exam week\n",
    "    ('2020-05-02', '2020-05-08')\n",
    "\n",
    "    #     # Maymester (excluding arrival day, which occurs on Spring commencement)\n",
    "    #     rd.create_date_list('2020-05-11', '2020-06-10'),\n",
    "\n",
    "    #     # Summer session (regular) through commencement (includes day after commencement)\n",
    "    #     rd.create_date_list('2020-05-18', '2020-08-15')\n",
    "]"
   ]
  },
  {
   "cell_type": "code",
   "execution_count": null,
   "metadata": {},
   "outputs": [],
   "source": [
    "# Store continuous ranges means in dictionary\n",
    "academic_years_2018_2020_means = rd.store_continuous_range_mean(\n",
    "    radiance_daily=radiance_sept_2018_may_2020,\n",
    "    date_range_list=academic_years_2018_2020)"
   ]
  },
  {
   "cell_type": "code",
   "execution_count": null,
   "metadata": {},
   "outputs": [],
   "source": [
    "# Show all keys in dictionary\n",
    "for key in academic_years_2018_2020_means.keys():\n",
    "    print(key)"
   ]
  },
  {
   "cell_type": "code",
   "execution_count": null,
   "metadata": {},
   "outputs": [],
   "source": [
    "# Display number of keys\n",
    "len(academic_years_2018_2020_means.keys())"
   ]
  },
  {
   "cell_type": "code",
   "execution_count": null,
   "metadata": {},
   "outputs": [],
   "source": [
    "# Display shape of single mean array in dictionary\n",
    "academic_years_2018_2020_means.get('20190512-20190811').shape"
   ]
  },
  {
   "cell_type": "markdown",
   "metadata": {},
   "source": [
    "### Date Range Radiance - Recurring Weekly Day Means (SUN, MON, TUE, etc.)"
   ]
  },
  {
   "cell_type": "code",
   "execution_count": null,
   "metadata": {},
   "outputs": [],
   "source": [
    "# Define date ranges for academic semesters\n",
    "semester_ranges = [\n",
    "    \n",
    "    # Fall 2018\n",
    "    ('2018-09-01', '2018-12-16'),\n",
    "    \n",
    "    # Spring 2019\n",
    "    ('2019-01-05', '2019-05-05'),\n",
    "\n",
    "    # Summer 2019\n",
    "    ('2019-05-12', '2019-08-11'),\n",
    "    \n",
    "    # Fall 2019\n",
    "    ('2019-08-31', '2019-12-22'),\n",
    "    \n",
    "    # Spring 2020\n",
    "    ('2020-01-11', '2020-05-10')\n",
    "]"
   ]
  },
  {
   "cell_type": "code",
   "execution_count": null,
   "metadata": {},
   "outputs": [],
   "source": [
    "# Create list of dictionaries with stored semester weekly radiances\n",
    "semesters_weekly = [rd.store_weekly_range_mean(radiance_sept_2018_may_2020, start_date, end_date)\n",
    "                    for start_date, end_date in semester_ranges]"
   ]
  },
  {
   "cell_type": "code",
   "execution_count": null,
   "metadata": {},
   "outputs": [],
   "source": [
    "# Unpack list of dictionaries to single dictionary\n",
    "semesters_unpacked = rd.unpack_dictionaries(semesters_weekly)\n",
    "\n",
    "# Display all keys in unpacked dictionary\n",
    "for key in semesters_unpacked.keys():\n",
    "    print(key)"
   ]
  },
  {
   "cell_type": "code",
   "execution_count": null,
   "metadata": {},
   "outputs": [],
   "source": [
    "# Display number of keys\n",
    "len(semesters_unpacked.keys())"
   ]
  },
  {
   "cell_type": "code",
   "execution_count": null,
   "metadata": {},
   "outputs": [],
   "source": [
    "# Display shape of single mean array in dictionary\n",
    "semesters_unpacked.get('20190831-20191222-MON').shape"
   ]
  },
  {
   "cell_type": "markdown",
   "metadata": {},
   "source": [
    "## Data Visualization"
   ]
  },
  {
   "cell_type": "markdown",
   "metadata": {},
   "source": [
    "### Create Ouput Directories"
   ]
  },
  {
   "cell_type": "code",
   "execution_count": null,
   "metadata": {},
   "outputs": [],
   "source": [
    "import os\n",
    "\n",
    "# Define paths to output directories\n",
    "processed_nasa_dir = os.path.join(\n",
    "    \"03-processed-data\", \"nasa-black-marble\")\n",
    "\n",
    "graphics_nasa_dir = os.path.join(\n",
    "    \"04-graphics-outputs\", \"nasa-black-marble\")\n",
    "\n",
    "nasa_geo_dir = os.path.join(\n",
    "    graphics_nasa_dir, \"georeferenced\")\n",
    "\n",
    "nasa_nongeo_dir = nasa_geo_dir = os.path.join(\n",
    "    graphics_nasa_dir, \"non-georeferenced\")\n",
    "\n",
    "# Create list of directories\n",
    "dir_list = [\n",
    "    processed_nasa_dir, graphics_nasa_dir, \n",
    "    geo_dir, nongeo_dir\n",
    "]\n",
    "\n",
    "# Create non-existing directories\n",
    "for dir in dir_list:\n",
    "    if not os.path.exists(dir):\n",
    "        os.mkdir(dir)\n",
    "        print(f\"Created directory: {dir}\")\n",
    "    else:\n",
    "        print(f\"Already exists: {dir}\")"
   ]
  },
  {
   "cell_type": "markdown",
   "metadata": {},
   "source": [
    "### Plot and Save Figures to PNG"
   ]
  },
  {
   "cell_type": "code",
   "execution_count": null,
   "metadata": {},
   "outputs": [],
   "source": [
    "# Plot Sept 2019 mean\n",
    "fig, ax = rd.plot_values(\n",
    "    radiance_monthtly_mean.get('2019').get('09'),\n",
    "    title=\"September 2019 Mean Radiance\",\n",
    "    difference=False)\n",
    "\n",
    "# Define output path\n",
    "outpath = os.path.join(\n",
    "    \"04-graphics-outputs\", \"nasa-black-marble\", \"non-georeferenced\",\n",
    "    \"penn-state-campus-radiance-mean-sep-2019-values.png\")\n",
    "\n",
    "# Save figure as PNG\n",
    "rd.save_figure(outpath)"
   ]
  },
  {
   "cell_type": "code",
   "execution_count": null,
   "metadata": {},
   "outputs": [],
   "source": [
    "# Plot Sept 2019 histogram\n",
    "fig, ax = rd.plot_histogram(\n",
    "    radiance_monthtly_mean.get('2019').get('09'), \n",
    "    title=\"Distribution of September 2019 Mean Radiance\",\n",
    "    xlabel='Mean Radiance',\n",
    "    difference=False)\n",
    "\n",
    "# Define output path\n",
    "outpath = os.path.join(\n",
    "    \"04-graphics-outputs\", \"nasa-black-marble\", \"non-georeferenced\",\n",
    "    \"penn-state-campus-radiance-mean-sep-2019-histogram.png\")\n",
    "\n",
    "# Save figure as PNG\n",
    "rd.save_figure(outpath)"
   ]
  },
  {
   "cell_type": "code",
   "execution_count": null,
   "metadata": {},
   "outputs": [],
   "source": [
    "# Plot March 2020 mean\n",
    "fig, ax = rd.plot_values(\n",
    "    radiance_monthtly_mean.get('2020').get('03'), \n",
    "    title=\"March 2020 Mean Radiance\",\n",
    "    difference=False)\n",
    "\n",
    "# Define output path\n",
    "outpath = os.path.join(\n",
    "    \"04-graphics-outputs\", \"nasa-black-marble\", \"non-georeferenced\",\n",
    "    \"penn-state-campus-radiance-mean-mar-2020-values.png\")\n",
    "\n",
    "# Save figure as PNG\n",
    "rd.save_figure(outpath)"
   ]
  },
  {
   "cell_type": "code",
   "execution_count": null,
   "metadata": {},
   "outputs": [],
   "source": [
    "# Plot March 2020 histogram\n",
    "fig, ax = rd.plot_histogram(\n",
    "    radiance_monthtly_mean.get('2020').get('03'), \n",
    "    title=\"Distribution of March 2020 Mean Radiance\",\n",
    "    xlabel='Mean Radiance',\n",
    "    difference=False)\n",
    "\n",
    "# Define output path\n",
    "outpath = os.path.join(\n",
    "    \"04-graphics-outputs\", \"nasa-black-marble\", \"non-georeferenced\",\n",
    "    \"penn-state-campus-radiance-mean-mar-2020-histogram.png\")\n",
    "\n",
    "# Save figure as PNG\n",
    "rd.save_figure(outpath)"
   ]
  },
  {
   "cell_type": "code",
   "execution_count": null,
   "metadata": {
    "scrolled": false
   },
   "outputs": [],
   "source": [
    "# Calculate change, September 2019 mean to March 2020 mean\n",
    "diff_sep_2019_march_2020 = rd.subtract_arrays(\n",
    "    radiance_monthtly_mean.get('2020').get('03'),\n",
    "    radiance_monthtly_mean.get('2019').get('09'))\n",
    "\n",
    "# Plot difference from Sept 2019 to March 2020\n",
    "fig, ax = rd.plot_values(\n",
    "    diff_sep_2019_march_2020, \n",
    "    title=\"Change in Mean Radiance (September 2019 vs. March 2020)\",\n",
    "    difference=True)\n",
    "\n",
    "# Define output path\n",
    "outpath = os.path.join(\n",
    "    \"04-graphics-outputs\", \"nasa-black-marble\", \"non-georeferenced\",\n",
    "    \"penn-state-campus-radiance-difference-sep-2019-mar-2020-values.png\")\n",
    "\n",
    "# Save figure as PNG\n",
    "rd.save_figure(outpath)"
   ]
  },
  {
   "cell_type": "code",
   "execution_count": null,
   "metadata": {},
   "outputs": [],
   "source": [
    "# Plot Sept 2019 vs. March 2020 change histogram\n",
    "fig, ax = rd.plot_histogram(\n",
    "    diff_sep_2019_march_2020, \n",
    "    title=\"Distribution of the Change in Mean Radiance (September 2019 vs. March 2020)\",\n",
    "    xlabel='Change in Mean Radiance',\n",
    "    difference=True)\n",
    "\n",
    "# Define output path\n",
    "outpath = os.path.join(\n",
    "    \"04-graphics-outputs\", \"nasa-black-marble\", \"non-georeferenced\",\n",
    "    \"penn-state-campus-radiance-difference-sep-2019-mar-2020-histogram.png\")\n",
    "\n",
    "# Save figure as PNG\n",
    "rd.save_figure(outpath)"
   ]
  },
  {
   "cell_type": "markdown",
   "metadata": {},
   "source": [
    "### Plot and Save Figures to PNG - Monthly Mean Difference, 1 Year Gap"
   ]
  },
  {
   "cell_type": "code",
   "execution_count": null,
   "metadata": {},
   "outputs": [],
   "source": [
    "# Calculate September 2018 to September 2019 difference\n",
    "diff_sep_2018_sep_2019 = rd.subtract_arrays(\n",
    "    radiance_monthtly_mean.get('2019').get('09'),\n",
    "    radiance_monthtly_mean.get('2018').get('09'))\n",
    "\n",
    "# Plot difference\n",
    "fig, ax = rd.plot_values(\n",
    "    diff_sep_2018_sep_2019, \n",
    "    title=\"Change in Mean Radiance (September 2018 vs. September 2019)\",\n",
    "    difference=True)\n",
    "\n",
    "# Define output path\n",
    "outpath = os.path.join(\n",
    "    \"04-graphics-outputs\", \"nasa-black-marble\", \"non-georeferenced\",\n",
    "    \"penn-state-campus-radiance-difference-sep-2018-sep-2019-values.png\")\n",
    "\n",
    "# Save figure as PNG\n",
    "rd.save_figure(outpath)\n",
    "\n",
    "# Plot histogram\n",
    "fig, ax = rd.plot_histogram(\n",
    "    diff_sep_2018_sep_2019, \n",
    "    title=\"Distribution of the Change in Mean Radiance (September 2018 vs. September 2019)\",\n",
    "    xlabel='Change in Mean Radiance',\n",
    "    difference=True)\n",
    "\n",
    "# Define output path\n",
    "outpath = os.path.join(\n",
    "    \"04-graphics-outputs\", \"nasa-black-marble\", \"non-georeferenced\",\n",
    "    \"penn-state-campus-radiance-difference-sep-2018-sep-2019-histogram.png\")\n",
    "\n",
    "# Save figure as PNG\n",
    "rd.save_figure(outpath)"
   ]
  },
  {
   "cell_type": "code",
   "execution_count": null,
   "metadata": {},
   "outputs": [],
   "source": [
    "# Calculate October 2018 to October 2019 difference\n",
    "diff_oct_2018_oct_2019 = rd.subtract_arrays(\n",
    "    radiance_monthtly_mean.get('2019').get('10'),\n",
    "    radiance_monthtly_mean.get('2018').get('10'))\n",
    "\n",
    "# Plot difference\n",
    "fig, ax = rd.plot_values(\n",
    "    diff_oct_2018_oct_2019, \n",
    "    title=\"Change in Mean Radiance (October 2018 vs. October 2019)\",\n",
    "    difference=True)\n",
    "\n",
    "# Define output path\n",
    "outpath = os.path.join(\n",
    "    \"04-graphics-outputs\", \"nasa-black-marble\", \"non-georeferenced\",\n",
    "    \"penn-state-campus-radiance-difference-oct-2018-oct-2019-values.png\")\n",
    "\n",
    "# Save figure as PNG\n",
    "rd.save_figure(outpath)\n",
    "\n",
    "# Plot histogram\n",
    "fig, ax = rd.plot_histogram(\n",
    "    diff_oct_2018_oct_2019, \n",
    "    title=\"Distribution of the Change in Mean Radiance (October 2018 vs. October 2019)\",\n",
    "    xlabel='Change in Mean Radiance',\n",
    "    difference=True)\n",
    "\n",
    "# Define output path\n",
    "outpath = os.path.join(\n",
    "    \"04-graphics-outputs\", \"nasa-black-marble\", \"non-georeferenced\",\n",
    "    \"penn-state-campus-radiance-difference-oct-2018-oct-2019-histogram.png\")\n",
    "\n",
    "# Save figure as PNG\n",
    "rd.save_figure(outpath)"
   ]
  },
  {
   "cell_type": "code",
   "execution_count": null,
   "metadata": {},
   "outputs": [],
   "source": [
    "# Calculate November 2018 to November 2019 difference\n",
    "diff_nov_2018_nov_2019 = rd.subtract_arrays(\n",
    "    radiance_monthtly_mean.get('2019').get('11'),\n",
    "    radiance_monthtly_mean.get('2018').get('11'))\n",
    "\n",
    "# Plot difference\n",
    "fig, ax = rd.plot_values(\n",
    "    diff_nov_2018_nov_2019, \n",
    "    title=\"Change in Mean Radiance (November 2018 vs. November 2019)\",\n",
    "    difference=True)\n",
    "\n",
    "# Define output path\n",
    "outpath = os.path.join(\n",
    "    \"04-graphics-outputs\", \"nasa-black-marble\", \"non-georeferenced\",\n",
    "    \"penn-state-campus-radiance-difference-nov-2018-nov-2019-values.png\")\n",
    "\n",
    "# Save figure as PNG\n",
    "rd.save_figure(outpath)\n",
    "\n",
    "# Plot histogram\n",
    "fig, ax = rd.plot_histogram(\n",
    "    diff_nov_2018_nov_2019, \n",
    "    title=\"Distribution of the Change in Mean Radiance (November 2018 vs. November 2019)\",\n",
    "    xlabel='Change in Mean Radiance',\n",
    "    difference=True)\n",
    "\n",
    "# Define output path\n",
    "outpath = os.path.join(\n",
    "    \"04-graphics-outputs\", \"nasa-black-marble\", \"non-georeferenced\",\n",
    "    \"penn-state-campus-radiance-difference-nov-2018-nov-2019-histogram.png\")\n",
    "\n",
    "# Save figure as PNG\n",
    "rd.save_figure(outpath)"
   ]
  },
  {
   "cell_type": "code",
   "execution_count": null,
   "metadata": {},
   "outputs": [],
   "source": [
    "# Calculate December 2018 to December 2019 difference\n",
    "diff_dec_2018_dec_2019 = rd.subtract_arrays(\n",
    "    radiance_monthtly_mean.get('2019').get('12'),\n",
    "    radiance_monthtly_mean.get('2018').get('12'))\n",
    "\n",
    "# Plot difference\n",
    "fig, ax = rd.plot_values(\n",
    "    diff_dec_2018_dec_2019, \n",
    "    title=\"Change in Mean Radiance (December 2018 vs. December 2019)\",\n",
    "    difference=True)\n",
    "\n",
    "# Define output path\n",
    "outpath = os.path.join(\n",
    "    \"04-graphics-outputs\", \"nasa-black-marble\", \"non-georeferenced\", \n",
    "    \"penn-state-campus-radiance-difference-dec-2018-dec-2019-values.png\")\n",
    "\n",
    "# Save figure as PNG\n",
    "rd.save_figure(outpath)\n",
    "\n",
    "# Plot histogram\n",
    "fig, ax = rd.plot_histogram(\n",
    "    diff_dec_2018_dec_2019, \n",
    "    title=\"Distribution of the Change in Mean Radiance (December 2018 vs. December 2019)\",\n",
    "    xlabel='Change in Mean Radiance',\n",
    "    difference=True)\n",
    "\n",
    "# Define output path\n",
    "outpath = os.path.join(\n",
    "    \"04-graphics-outputs\", \"nasa-black-marble\", \"non-georeferenced\",\n",
    "    \"penn-state-campus-radiance-difference-dec-2018-dec-2019-histogram.png\")\n",
    "\n",
    "# Save figure as PNG\n",
    "rd.save_figure(outpath)"
   ]
  },
  {
   "cell_type": "code",
   "execution_count": null,
   "metadata": {},
   "outputs": [],
   "source": [
    "# Calculate January 2019 to January 2020 difference\n",
    "diff_jan_2019_jan_2020 = rd.subtract_arrays(\n",
    "    radiance_monthtly_mean.get('2020').get('01'),\n",
    "    radiance_monthtly_mean.get('2019').get('01'))\n",
    "\n",
    "# Plot difference\n",
    "fig, ax = rd.plot_values(\n",
    "    diff_jan_2019_jan_2020, \n",
    "    title=\"Change in Mean Radiance (January 2019 vs. January 2020)\",\n",
    "    difference=True)\n",
    "\n",
    "# Define output path\n",
    "outpath = os.path.join(\n",
    "    \"04-graphics-outputs\", \"nasa-black-marble\", \"non-georeferenced\",\n",
    "    \"penn-state-campus-radiance-difference-jan-2019-jan-2020-values.png\")\n",
    "\n",
    "# Save figure as PNG\n",
    "rd.save_figure(outpath)\n",
    "\n",
    "# Plot histogram\n",
    "fig, ax = rd.plot_histogram(\n",
    "    diff_jan_2019_jan_2020, \n",
    "    title=\"Distribution of the Change in Mean Radiance (January 2019 vs. January 2020)\",\n",
    "    xlabel='Change in Mean Radiance',\n",
    "    difference=True)\n",
    "\n",
    "# Define output path\n",
    "outpath = os.path.join(\n",
    "    \"04-graphics-outputs\", \"nasa-black-marble\", \"non-georeferenced\",\n",
    "    \"penn-state-campus-radiance-difference-jan-2019-jan-2020-histogram.png\")\n",
    "\n",
    "# Save figure as PNG\n",
    "rd.save_figure(outpath)"
   ]
  },
  {
   "cell_type": "code",
   "execution_count": null,
   "metadata": {},
   "outputs": [],
   "source": [
    "# Calculate February 2019 to February 2020 difference\n",
    "diff_feb_2019_feb_2020 = rd.subtract_arrays(\n",
    "    radiance_monthtly_mean.get('2020').get('02'),\n",
    "    radiance_monthtly_mean.get('2019').get('02'))\n",
    "\n",
    "# Plot difference\n",
    "fig, ax = rd.plot_values(\n",
    "    diff_feb_2019_feb_2020, \n",
    "    title=\"Change in Mean Radiance (February 2019 vs. February 2020)\",\n",
    "    difference=True)\n",
    "\n",
    "# Define output path\n",
    "outpath = os.path.join(\n",
    "    \"04-graphics-outputs\", \"nasa-black-marble\", \"non-georeferenced\",\n",
    "    \"penn-state-campus-radiance-difference-feb-2019-feb-2020-values.png\")\n",
    "\n",
    "# Save figure as PNG\n",
    "rd.save_figure(outpath)\n",
    "\n",
    "# Plot histogram\n",
    "fig, ax = rd.plot_histogram(\n",
    "    diff_feb_2019_feb_2020, \n",
    "    title=\"Distribution of the Change in Mean Radiance (February 2019 vs. February 2020)\",\n",
    "    xlabel='Change in Mean Radiance',\n",
    "    difference=True)\n",
    "\n",
    "# Define output path\n",
    "outpath = os.path.join(\n",
    "    \"04-graphics-outputs\", \"nasa-black-marble\", \"non-georeferenced\",\n",
    "    \"penn-state-campus-radiance-difference-feb-2019-feb-2020-histogram.png\")\n",
    "\n",
    "# Save figure as PNG\n",
    "rd.save_figure(outpath)"
   ]
  },
  {
   "cell_type": "code",
   "execution_count": null,
   "metadata": {},
   "outputs": [],
   "source": [
    "# Calculate March 2019 to March 2020 difference\n",
    "diff_march_2019_march_2020 = rd.subtract_arrays(\n",
    "    radiance_monthtly_mean.get('2020').get('03'),\n",
    "    radiance_monthtly_mean.get('2019').get('03'))\n",
    "\n",
    "# Plot difference\n",
    "fig, ax = rd.plot_values(\n",
    "    diff_march_2019_march_2020, \n",
    "    title=\"Change in Mean Radiance (March 2019 vs. March 2020)\",\n",
    "    difference=True)\n",
    "\n",
    "# Define output path\n",
    "outpath = os.path.join(\n",
    "    \"04-graphics-outputs\", \"nasa-black-marble\", \"non-georeferenced\", \n",
    "    \"penn-state-campus-radiance-difference-mar-2019-mar-2020-values.png\")\n",
    "\n",
    "# Save figure as PNG\n",
    "rd.save_figure(outpath)\n",
    "\n",
    "# Plot histogram\n",
    "fig, ax = rd.plot_histogram(\n",
    "    diff_march_2019_march_2020, \n",
    "    title=\"Distribution of the Change in Mean Radiance (March 2019 vs. March 2020)\",\n",
    "    xlabel='Change in Mean Radiance',\n",
    "    difference=True)\n",
    "\n",
    "# Define output path\n",
    "outpath = os.path.join(\n",
    "    \"04-graphics-outputs\", \"nasa-black-marble\", \"non-georeferenced\",\n",
    "    \"penn-state-campus-radiance-difference-mar-2019-mar-2020-histogram.png\")\n",
    "\n",
    "# Save figure as PNG\n",
    "rd.save_figure(outpath)"
   ]
  },
  {
   "cell_type": "code",
   "execution_count": null,
   "metadata": {},
   "outputs": [],
   "source": [
    "# Calculate April 2019 to April 2020 difference\n",
    "diff_april_2019_april_2020 = rd.subtract_arrays(\n",
    "    radiance_monthtly_mean.get('2020').get('04'),\n",
    "    radiance_monthtly_mean.get('2019').get('04'))\n",
    "\n",
    "# Plot difference\n",
    "fig, ax = rd.plot_values(\n",
    "    diff_april_2019_april_2020, \n",
    "    title=\"Change in Mean Radiance (April 2019 vs. April 2020)\",\n",
    "    difference=True)\n",
    "\n",
    "# Define output path\n",
    "outpath = os.path.join(\n",
    "    \"04-graphics-outputs\", \"nasa-black-marble\", \"non-georeferenced\", \n",
    "    \"penn-state-campus-radiance-difference-apr-2019-apr-2020-values.png\")\n",
    "\n",
    "# Save figure as PNG\n",
    "rd.save_figure(outpath)\n",
    "\n",
    "# Plot histogram\n",
    "fig, ax = rd.plot_histogram(\n",
    "    diff_april_2019_april_2020, \n",
    "    title=\"Distribution of the Change in Mean Radiance (April 2019 vs. April 2020)\",\n",
    "    xlabel='Change in Mean Radiance',\n",
    "    difference=True)\n",
    "\n",
    "# Define output path\n",
    "outpath = os.path.join(\n",
    "    \"04-graphics-outputs\", \"nasa-black-marble\", \"non-georeferenced\",\n",
    "    \"penn-state-campus-radiance-difference-apr-2019-apr-2020-histogram.png\")\n",
    "\n",
    "# Save figure as PNG\n",
    "rd.save_figure(outpath)"
   ]
  },
  {
   "cell_type": "markdown",
   "metadata": {},
   "source": [
    "### Plot and Save Figures to PNG - Weekly Day Mean Difference, 1 Year Gap, Spring Semester"
   ]
  },
  {
   "cell_type": "code",
   "execution_count": null,
   "metadata": {
    "scrolled": false
   },
   "outputs": [],
   "source": [
    "# Get difference between Spring 2019 and Spring 2020 Sunday means\n",
    "diff_spring_2019_2020_sundays = rd.subtract_arrays(\n",
    "    semesters_unpacked.get('20200111-20200510-SUN'),\n",
    "    semesters_unpacked.get('20190105-20190505-SUN'))\n",
    "\n",
    "# Plot difference\n",
    "fig, ax = rd.plot_values(\n",
    "    diff_spring_2019_2020_sundays, \n",
    "    title=\"Change in Mean Radiance (Sunday - Spring 2019 vs. Spring 2020)\",\n",
    "    difference=True)\n",
    "\n",
    "# Define output path\n",
    "outpath = os.path.join(\n",
    "    \"04-graphics-outputs\", \"nasa-black-marble\", \"non-georeferenced\",\n",
    "    \"penn-state-campus-radiance-difference-spring-2019-2020-sun-values.png\")\n",
    "\n",
    "# Save figure as PNG\n",
    "rd.save_figure(outpath)\n",
    "\n",
    "# Plot histogram\n",
    "fig, ax = rd.plot_histogram(\n",
    "    diff_spring_2019_2020_sundays, \n",
    "    title=\"Distribution of the Change in Mean Radiance (Sunday - Spring 2019 vs. Spring 2020)\",\n",
    "    xlabel='Change in Mean Radiance',\n",
    "    difference=True)\n",
    "\n",
    "# Define output path\n",
    "outpath = os.path.join(\n",
    "    \"04-graphics-outputs\", \"nasa-black-marble\", \"non-georeferenced\",\n",
    "    \"penn-state-campus-radiance-difference-spring-2019-2020-sun-histogram.png\")\n",
    "\n",
    "# Save figure as PNG\n",
    "rd.save_figure(outpath)"
   ]
  },
  {
   "cell_type": "code",
   "execution_count": null,
   "metadata": {},
   "outputs": [],
   "source": [
    "# Get difference between Spring 2019 and Spring 2020 Monday means\n",
    "diff_spring_2019_2020_mondays = rd.subtract_arrays(\n",
    "    semesters_unpacked.get('20200111-20200510-MON'),\n",
    "    semesters_unpacked.get('20190105-20190505-MON'))\n",
    "\n",
    "# Plot difference\n",
    "fig, ax = rd.plot_values(\n",
    "    diff_spring_2019_2020_mondays, \n",
    "    title=\"Change in Mean Radiance (Monday - Spring 2019 vs. Spring 2020)\",\n",
    "    difference=True)\n",
    "\n",
    "# Define output path\n",
    "outpath = os.path.join(\n",
    "    \"04-graphics-outputs\", \"nasa-black-marble\", \"non-georeferenced\",\n",
    "    \"penn-state-campus-radiance-difference-spring-2019-2020-mon-values.png\")\n",
    "\n",
    "# Save figure as PNG\n",
    "rd.save_figure(outpath)\n",
    "\n",
    "# Plot histogram\n",
    "fig, ax = rd.plot_histogram(\n",
    "    diff_spring_2019_2020_mondays, \n",
    "    title=\"Distribution of the Change in Mean Radiance (Monday - Spring 2019 vs. Spring 2020)\",\n",
    "    xlabel='Change in Mean Radiance',\n",
    "    difference=True)\n",
    "\n",
    "# Define output path\n",
    "outpath = os.path.join(\n",
    "    \"04-graphics-outputs\", \"nasa-black-marble\", \"non-georeferenced\",\n",
    "    \"penn-state-campus-radiance-difference-spring-2019-2020-mon-histogram.png\")\n",
    "\n",
    "# Save figure as PNG\n",
    "rd.save_figure(outpath)"
   ]
  },
  {
   "cell_type": "code",
   "execution_count": null,
   "metadata": {},
   "outputs": [],
   "source": [
    "# Get difference between Spring 2019 and Spring 2020 Tuesday means\n",
    "diff_spring_2019_2020_tuesdays = rd.subtract_arrays(\n",
    "    semesters_unpacked.get('20200111-20200510-TUE'),\n",
    "    semesters_unpacked.get('20190105-20190505-TUE'))\n",
    "\n",
    "# Plot difference\n",
    "fig, ax = rd.plot_values(\n",
    "    diff_spring_2019_2020_tuesdays, \n",
    "    title=\"Change in Mean Radiance (Tuesday - Spring 2019 vs. Spring 2020)\",\n",
    "    difference=True)\n",
    "\n",
    "# Define output path\n",
    "outpath = os.path.join(\n",
    "    \"04-graphics-outputs\", \"nasa-black-marble\", \"non-georeferenced\",\n",
    "    \"penn-state-campus-radiance-difference-spring-2019-2020-tue-values.png\")\n",
    "\n",
    "# Save figure as PNG\n",
    "rd.save_figure(outpath)\n",
    "\n",
    "# Plot histogram\n",
    "fig, ax = rd.plot_histogram(\n",
    "    diff_spring_2019_2020_tuesdays, \n",
    "    title=\"Distribution of the Change in Mean Radiance (Tuesday - Spring 2019 vs. Spring 2020)\",\n",
    "    xlabel='Change in Mean Radiance',\n",
    "    difference=True)\n",
    "\n",
    "# Define output path\n",
    "outpath = os.path.join(\n",
    "    \"04-graphics-outputs\", \"nasa-black-marble\", \"non-georeferenced\",\n",
    "    \"penn-state-campus-radiance-difference-spring-2019-2020-tue-histogram.png\")\n",
    "\n",
    "# Save figure as PNG\n",
    "rd.save_figure(outpath)"
   ]
  },
  {
   "cell_type": "code",
   "execution_count": null,
   "metadata": {
    "scrolled": false
   },
   "outputs": [],
   "source": [
    "# Get difference between Spring 2019 and Spring 2020 Wednesday means\n",
    "diff_spring_2019_2020_wednesdays = rd.subtract_arrays(\n",
    "    semesters_unpacked.get('20200111-20200510-WED'),\n",
    "    semesters_unpacked.get('20190105-20190505-WED'))\n",
    "\n",
    "# Plot difference\n",
    "fig, ax = rd.plot_values(\n",
    "    diff_spring_2019_2020_wednesdays, \n",
    "    title=\"Change in Mean Radiance (Wednesday - Spring 2019 vs. Spring 2020)\",\n",
    "    difference=True)\n",
    "\n",
    "# Define output path\n",
    "outpath = os.path.join(\n",
    "    \"04-graphics-outputs\", \"nasa-black-marble\", \"non-georeferenced\",\n",
    "    \"penn-state-campus-radiance-difference-spring-2019-2020-wed-values.png\")\n",
    "\n",
    "# Save figure as PNG\n",
    "rd.save_figure(outpath)\n",
    "\n",
    "# Plot histogram\n",
    "fig, ax = rd.plot_histogram(\n",
    "    diff_spring_2019_2020_wednesdays, \n",
    "    title=\"Distribution of the Change in Mean Radiance (Wednesday - Spring 2019 vs. Spring 2020)\",\n",
    "    xlabel='Change in Mean Radiance',\n",
    "    difference=True)\n",
    "\n",
    "# Define output path\n",
    "outpath = os.path.join(\n",
    "    \"04-graphics-outputs\", \"nasa-black-marble\", \"non-georeferenced\",\n",
    "    \"penn-state-campus-radiance-difference-spring-2019-2020-wed-histogram.png\")\n",
    "\n",
    "# Save figure as PNG\n",
    "rd.save_figure(outpath)"
   ]
  },
  {
   "cell_type": "code",
   "execution_count": null,
   "metadata": {
    "scrolled": false
   },
   "outputs": [],
   "source": [
    "# Get difference between Spring 2019 and Spring 2020 Thursday means\n",
    "diff_spring_2019_2020_thursdays = rd.subtract_arrays(\n",
    "    semesters_unpacked.get('20200111-20200510-THU'),\n",
    "    semesters_unpacked.get('20190105-20190505-THU'))\n",
    "\n",
    "# Plot difference\n",
    "fig, ax = rd.plot_values(\n",
    "    diff_spring_2019_2020_thursdays, \n",
    "    title=\"Change in Mean Radiance (Thursday - Spring 2019 vs. Spring 2020)\",\n",
    "    difference=True)\n",
    "\n",
    "# Define output path\n",
    "outpath = os.path.join(\n",
    "    \"04-graphics-outputs\", \"nasa-black-marble\", \"non-georeferenced\",\n",
    "    \"penn-state-campus-radiance-difference-spring-2019-2020-thu-values.png\")\n",
    "\n",
    "# Save figure as PNG\n",
    "rd.save_figure(outpath)\n",
    "\n",
    "# Plot histogram\n",
    "fig, ax = rd.plot_histogram(\n",
    "    diff_spring_2019_2020_thursdays, \n",
    "    title=\"Distribution of the Change in Mean Radiance (Thursday - Spring 2019 vs. Spring 2020)\",\n",
    "    xlabel='Change in Mean Radiance',\n",
    "    difference=True)\n",
    "\n",
    "# Define output path\n",
    "outpath = os.path.join(\n",
    "    \"04-graphics-outputs\", \"nasa-black-marble\", \"non-georeferenced\", \n",
    "    \"penn-state-campus-radiance-difference-spring-2019-2020-thu-histogram.png\")\n",
    "\n",
    "# Save figure as PNG\n",
    "rd.save_figure(outpath)"
   ]
  },
  {
   "cell_type": "code",
   "execution_count": null,
   "metadata": {},
   "outputs": [],
   "source": [
    "# Get difference between Spring 2019 and Spring 2020 Friday means\n",
    "diff_spring_2019_2020_fridays = rd.subtract_arrays(\n",
    "    semesters_unpacked.get('20200111-20200510-FRI'),\n",
    "    semesters_unpacked.get('20190105-20190505-FRI'))\n",
    "\n",
    "# Plot difference\n",
    "fig, ax = rd.plot_values(\n",
    "    diff_spring_2019_2020_fridays, \n",
    "    title=\"Change in Mean Radiance (Friday - Spring 2019 vs. Spring 2020)\",\n",
    "    difference=True)\n",
    "\n",
    "# Define output path\n",
    "outpath = os.path.join(\n",
    "    \"04-graphics-outputs\", \"nasa-black-marble\", \"non-georeferenced\",\n",
    "    \"penn-state-campus-radiance-difference-spring-2019-2020-fri-values.png\")\n",
    "\n",
    "# Save figure as PNG\n",
    "rd.save_figure(outpath)\n",
    "\n",
    "# Plot histogram\n",
    "fig, ax = rd.plot_histogram(\n",
    "    diff_spring_2019_2020_fridays, \n",
    "    title=\"Distribution of the Change in Mean Radiance (Friday - Spring 2019 vs. Spring 2020)\",\n",
    "    xlabel='Change in Mean Radiance',\n",
    "    difference=True)\n",
    "\n",
    "# Define output path\n",
    "outpath = os.path.join(\n",
    "    \"04-graphics-outputs\", \"nasa-black-marble\", \"non-georeferenced\",\n",
    "    \"penn-state-campus-radiance-difference-spring-2019-2020-fri-histogram.png\")\n",
    "\n",
    "# Save figure as PNG\n",
    "rd.save_figure(outpath)"
   ]
  },
  {
   "cell_type": "code",
   "execution_count": null,
   "metadata": {},
   "outputs": [],
   "source": [
    "# Get difference between Spring 2019 and Spring 2020 Saturday means\n",
    "diff_spring_2019_2020_saturdays = rd.subtract_arrays(\n",
    "    semesters_unpacked.get('20200111-20200510-SAT'),\n",
    "    semesters_unpacked.get('20190105-20190505-SAT'))\n",
    "\n",
    "# Plot difference\n",
    "fig, ax = rd.plot_values(\n",
    "    diff_spring_2019_2020_saturdays, \n",
    "    title=\"Change in Mean Radiance (Saturday - Spring 2019 vs. Spring 2020)\",\n",
    "    difference=True)\n",
    "\n",
    "# Define output path\n",
    "outpath = os.path.join(\n",
    "    \"04-graphics-outputs\", \"nasa-black-marble\", \"non-georeferenced\",\n",
    "    \"penn-state-campus-radiance-difference-spring-2019-2020-sat-values.png\")\n",
    "\n",
    "# Save figure as PNG\n",
    "rd.save_figure(outpath)\n",
    "\n",
    "# Plot histogram\n",
    "fig, ax = rd.plot_histogram(\n",
    "    diff_spring_2019_2020_saturdays, \n",
    "    title=\"Distribution of the Change in Mean Radiance (Saturday - Spring 2019 vs. Spring 2020)\",\n",
    "    xlabel='Change in Mean Radiance',\n",
    "    difference=True)\n",
    "\n",
    "# Define output path\n",
    "outpath = os.path.join(\n",
    "    \"04-graphics-outputs\", \"nasa-black-marble\", \"non-georeferenced\",\n",
    "    \"penn-state-campus-radiance-difference-spring-2019-2020-sat-histogram.png\")\n",
    "\n",
    "# Save figure as PNG\n",
    "rd.save_figure(outpath)"
   ]
  },
  {
   "cell_type": "code",
   "execution_count": null,
   "metadata": {},
   "outputs": [],
   "source": [
    "# Get difference between Spring 2019 and Spring 2020 Business Day means\n",
    "diff_spring_2019_2020_business = rd.subtract_arrays(\n",
    "    semesters_unpacked.get('20200111-20200510-BUS'),\n",
    "    semesters_unpacked.get('20190105-20190505-BUS'))\n",
    "\n",
    "# Plot difference\n",
    "fig, ax = rd.plot_values(\n",
    "    diff_spring_2019_2020_business, \n",
    "    title=\"Change in Mean Radiance (Business Days - Spring 2019 vs. Spring 2020)\",\n",
    "    difference=True)\n",
    "\n",
    "# Define output path\n",
    "outpath = os.path.join(\n",
    "    \"04-graphics-outputs\", \"nasa-black-marble\", \"non-georeferenced\",\n",
    "    \"penn-state-campus-radiance-difference-spring-2019-2020-bus-values.png\")\n",
    "\n",
    "# Save figure as PNG\n",
    "rd.save_figure(outpath)\n",
    "\n",
    "# Plot histogram\n",
    "fig, ax = rd.plot_histogram(\n",
    "    diff_spring_2019_2020_business, \n",
    "    title=\"Distribution of the Change in Mean Radiance (Business Days - Spring 2019 vs. Spring 2020)\",\n",
    "    xlabel='Change in Mean Radiance',\n",
    "    difference=True)\n",
    "\n",
    "# Define output path\n",
    "outpath = os.path.join(\n",
    "    \"04-graphics-outputs\", \"nasa-black-marble\", \"non-georeferenced\", \n",
    "    \"penn-state-campus-radiance-difference-spring-2019-2020-bus-histogram.png\")\n",
    "\n",
    "# Save figure as PNG\n",
    "rd.save_figure(outpath)"
   ]
  },
  {
   "cell_type": "markdown",
   "metadata": {},
   "source": [
    "### Combined Plots"
   ]
  },
  {
   "cell_type": "code",
   "execution_count": null,
   "metadata": {
    "scrolled": false
   },
   "outputs": [],
   "source": [
    "# Define titles\n",
    "plot_titles = [\n",
    "    'September 2019 Mean Radiance',\n",
    "    'March 2020 Mean Radiance',\n",
    "    'Change in Mean Radiance (September 2019 vs. March 2020)'\n",
    "]\n",
    "\n",
    "# Plot Sept 2019 and March 2020\n",
    "fig, ax = rd.plot_change(\n",
    "    pre_change=radiance_monthtly_mean.get('2019').get('09'),\n",
    "    post_change=radiance_monthtly_mean.get('2020').get('03'),\n",
    "    titles=plot_titles)\n",
    "\n",
    "# Define output path\n",
    "outpath = os.path.join(\n",
    "    \"04-graphics-outputs\", \"nasa-black-marble\", \"non-georeferenced\",\n",
    "    \"penn-state-campus-radiance-difference-sep-2019-mar-2020-values-all.png\")\n",
    "\n",
    "# Save figure as PNG\n",
    "rd.save_figure(outpath)"
   ]
  },
  {
   "cell_type": "markdown",
   "metadata": {},
   "source": [
    "## Data Export"
   ]
  },
  {
   "cell_type": "markdown",
   "metadata": {},
   "source": [
    "### Export Filled Dataframes to CSV"
   ]
  },
  {
   "cell_type": "code",
   "execution_count": null,
   "metadata": {},
   "outputs": [],
   "source": [
    "# Set index column name\n",
    "psu_cloud_mask_filled.index.name = 'pixel_id'\n",
    "\n",
    "# Set output path\n",
    "df_out_path = os.path.join(\n",
    "    \"03-processed-data\", \"nasa-black-marble\",\n",
    "    \"penn-state-campus-sep-2018-may-2020-cloud-mask-filled.csv\")\n",
    "\n",
    "# Write data to CSV\n",
    "try:\n",
    "    psu_cloud_mask_filled.to_csv(\n",
    "        path_or_buf=df_out_path, sep=',', header=True, index=True, na_rep=np.nan)\n",
    "    \n",
    "except Exception as error:\n",
    "    print(f\"Could not write to CSV. ERROR: {error}\")\n",
    "    \n",
    "else:\n",
    "    print(f\"Wrote data to CSV: {os.path.split(df_out_path)[-1]}\")"
   ]
  },
  {
   "cell_type": "code",
   "execution_count": null,
   "metadata": {},
   "outputs": [],
   "source": [
    "# Set index column name\n",
    "psu_radiance_filled.index.name = 'pixel_id'\n",
    "\n",
    "# Set output path\n",
    "df_out_path = os.path.join(\n",
    "    \"03-processed-data\", \"nasa-black-marble\",\n",
    "    \"penn-state-campus-sep-2018-may-2020-radiance-filled.csv\")\n",
    "\n",
    "# Write data to CSV\n",
    "try:\n",
    "    psu_radiance_filled.to_csv(\n",
    "        path_or_buf=df_out_path, sep=',', header=True, index=True, na_rep=np.nan)\n",
    "\n",
    "except Exception as error:\n",
    "    print(f\"Could not write to CSV. ERROR: {error}\")\n",
    "\n",
    "else:\n",
    "    print(f\"Wrote data to CSV: {os.path.split(df_out_path)[-1]}\")"
   ]
  },
  {
   "cell_type": "markdown",
   "metadata": {},
   "source": [
    "### Export Radiance Arrays to GeoTiff"
   ]
  },
  {
   "cell_type": "code",
   "execution_count": null,
   "metadata": {},
   "outputs": [],
   "source": [
    "# Define export output paths\n",
    "sept_2019_radiance_outpath = os.path.join(\n",
    "    \"04-graphics-outputs\", \"nasa-black-marble\", \"georeferenced\",\n",
    "    \"penn-state-campus-radiance-sept-2019.tif\")\n",
    "\n",
    "march_2020_radiance_outpath = os.path.join(\n",
    "    \"04-graphics-outputs\", \"nasa-black-marble\", \"georeferenced\",\n",
    "    \"penn-state-campus-radiance-march-2020.tif\")\n",
    "\n",
    "radiance_diff_outpath = os.path.join(\n",
    "    \"04-graphics-outputs\", \"nasa-black-marble\", \"georeferenced\",\n",
    "    \"penn-state-campus-radiance-difference-sept-2019-march-2020.tif\")"
   ]
  },
  {
   "cell_type": "code",
   "execution_count": null,
   "metadata": {},
   "outputs": [],
   "source": [
    "# Define export metadata\n",
    "psu_campus_metadata = rd.create_metadata(\n",
    "    array=diff_sep_2019_march_2020, transform=psu_transform)"
   ]
  },
  {
   "cell_type": "code",
   "execution_count": null,
   "metadata": {},
   "outputs": [],
   "source": [
    "# Export September 2019 radiance\n",
    "rd.export_array(\n",
    "    array=radiance_monthtly_mean.get('2019').get('09'),\n",
    "    output_path=sept_2019_radiance_outpath,\n",
    "    metadata=psu_campus_metadata)\n",
    "\n",
    "# Export March 2020 radiance\n",
    "rd.export_array(\n",
    "    array=radiance_monthtly_mean.get('2020').get('03'),\n",
    "    output_path=march_2020_radiance_outpath,\n",
    "    metadata=psu_campus_metadata)\n",
    "\n",
    "# Export radiance difference\n",
    "rd.export_array(\n",
    "    array=diff_sep_2019_march_2020,\n",
    "    output_path=radiance_diff_outpath,\n",
    "    metadata=psu_campus_metadata)"
   ]
  },
  {
   "cell_type": "code",
   "execution_count": null,
   "metadata": {},
   "outputs": [],
   "source": []
  }
 ],
 "metadata": {
  "kernelspec": {
   "display_name": "Python 3",
   "language": "python",
   "name": "python3"
  },
  "language_info": {
   "codemirror_mode": {
    "name": "ipython",
    "version": 3
   },
   "file_extension": ".py",
   "mimetype": "text/x-python",
   "name": "python",
   "nbconvert_exporter": "python",
   "pygments_lexer": "ipython3",
   "version": "3.7.6"
  },
  "toc": {
   "base_numbering": 1,
   "nav_menu": {},
   "number_sections": true,
   "sideBar": true,
   "skip_h1_title": false,
   "title_cell": "Table of Contents",
   "title_sidebar": "Contents",
   "toc_cell": false,
   "toc_position": {},
   "toc_section_display": true,
   "toc_window_display": false
  }
 },
 "nbformat": 4,
 "nbformat_minor": 4
}
